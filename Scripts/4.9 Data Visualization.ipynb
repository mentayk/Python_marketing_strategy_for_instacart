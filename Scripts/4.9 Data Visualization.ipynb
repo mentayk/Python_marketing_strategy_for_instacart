{
 "cells": [
  {
   "cell_type": "markdown",
   "id": "79bce203",
   "metadata": {},
   "source": [
    "# 4.9 Data Viz"
   ]
  },
  {
   "cell_type": "markdown",
   "id": "d5f2bdd0",
   "metadata": {},
   "source": [
    "## This script contains following points:\n",
    "- Importing libraries (including libraries for vis: matplotlib, seaborn, scipy)\n",
    "- Creating bar chart (changing its order by index, adding colors to bars) and exporting bar chart as image outside of Jupyter\n",
    "- Creating Histogram and Scatterplot (cleaning prices column: changing prices over $100 to NaN)\n",
    "- Sampling Data and creating line chart for small sample\n"
   ]
  },
  {
   "cell_type": "code",
   "execution_count": 5,
   "id": "952aa880",
   "metadata": {},
   "outputs": [],
   "source": [
    "# Import libraries\n",
    "import pandas as pd\n",
    "import numpy as np\n",
    "import os\n",
    "import matplotlib.pyplot as plt\n",
    "import seaborn as sns\n",
    "import scipy"
   ]
  },
  {
   "cell_type": "code",
   "execution_count": 6,
   "id": "a36db198",
   "metadata": {},
   "outputs": [
    {
     "data": {
      "text/plain": [
       "'/Users/mentaykoshzhanova/Desktop/Instacart Basket Analysis'"
      ]
     },
     "execution_count": 6,
     "metadata": {},
     "output_type": "execute_result"
    }
   ],
   "source": [
    "# Path to the original data\n",
    "path= r\"/Users/mentaykoshzhanova/Desktop/Instacart Basket Analysis\"\n",
    "path"
   ]
  },
  {
   "cell_type": "code",
   "execution_count": 7,
   "id": "7a60c1b9",
   "metadata": {},
   "outputs": [],
   "source": [
    "# Import dataframe\n",
    "ords_prods_grouped= pd.read_pickle(os.path.join(path, '02 Data', 'Prepared Data', 'orders_products_grouped.pkl'))"
   ]
  },
  {
   "cell_type": "code",
   "execution_count": 8,
   "id": "56ff069b",
   "metadata": {},
   "outputs": [
    {
     "data": {
      "text/html": [
       "<div>\n",
       "<style scoped>\n",
       "    .dataframe tbody tr th:only-of-type {\n",
       "        vertical-align: middle;\n",
       "    }\n",
       "\n",
       "    .dataframe tbody tr th {\n",
       "        vertical-align: top;\n",
       "    }\n",
       "\n",
       "    .dataframe thead th {\n",
       "        text-align: right;\n",
       "    }\n",
       "</style>\n",
       "<table border=\"1\" class=\"dataframe\">\n",
       "  <thead>\n",
       "    <tr style=\"text-align: right;\">\n",
       "      <th></th>\n",
       "      <th>order_id</th>\n",
       "      <th>product_id</th>\n",
       "      <th>add_to_cart_order</th>\n",
       "      <th>reordered</th>\n",
       "      <th>Unnamed: 0_x</th>\n",
       "      <th>user_id</th>\n",
       "      <th>order_number</th>\n",
       "      <th>order_day_of_week</th>\n",
       "      <th>order_time</th>\n",
       "      <th>days_since_prior_order</th>\n",
       "      <th>...</th>\n",
       "      <th>product_name</th>\n",
       "      <th>aisle_id</th>\n",
       "      <th>department_id</th>\n",
       "      <th>prices</th>\n",
       "      <th>exists</th>\n",
       "      <th>price_range_loc</th>\n",
       "      <th>price_ranged_loc</th>\n",
       "      <th>Busiest days</th>\n",
       "      <th>Busiest_period_of_day</th>\n",
       "      <th>Busiest day</th>\n",
       "    </tr>\n",
       "  </thead>\n",
       "  <tbody>\n",
       "    <tr>\n",
       "      <th>0</th>\n",
       "      <td>2</td>\n",
       "      <td>33120</td>\n",
       "      <td>1</td>\n",
       "      <td>1</td>\n",
       "      <td>3355525</td>\n",
       "      <td>202279</td>\n",
       "      <td>3</td>\n",
       "      <td>5</td>\n",
       "      <td>9</td>\n",
       "      <td>8.0</td>\n",
       "      <td>...</td>\n",
       "      <td>Organic Egg Whites</td>\n",
       "      <td>86</td>\n",
       "      <td>16</td>\n",
       "      <td>11.3</td>\n",
       "      <td>both</td>\n",
       "      <td>Mid-range product</td>\n",
       "      <td>NaN</td>\n",
       "      <td>Regularly busy</td>\n",
       "      <td>Most orders</td>\n",
       "      <td>Regularly busy</td>\n",
       "    </tr>\n",
       "    <tr>\n",
       "      <th>1</th>\n",
       "      <td>26</td>\n",
       "      <td>33120</td>\n",
       "      <td>5</td>\n",
       "      <td>0</td>\n",
       "      <td>2549350</td>\n",
       "      <td>153404</td>\n",
       "      <td>2</td>\n",
       "      <td>0</td>\n",
       "      <td>16</td>\n",
       "      <td>7.0</td>\n",
       "      <td>...</td>\n",
       "      <td>Organic Egg Whites</td>\n",
       "      <td>86</td>\n",
       "      <td>16</td>\n",
       "      <td>11.3</td>\n",
       "      <td>both</td>\n",
       "      <td>Mid-range product</td>\n",
       "      <td>NaN</td>\n",
       "      <td>Busiest days</td>\n",
       "      <td>Most orders</td>\n",
       "      <td>Busiest days</td>\n",
       "    </tr>\n",
       "    <tr>\n",
       "      <th>2</th>\n",
       "      <td>120</td>\n",
       "      <td>33120</td>\n",
       "      <td>13</td>\n",
       "      <td>0</td>\n",
       "      <td>395303</td>\n",
       "      <td>23750</td>\n",
       "      <td>11</td>\n",
       "      <td>6</td>\n",
       "      <td>8</td>\n",
       "      <td>10.0</td>\n",
       "      <td>...</td>\n",
       "      <td>Organic Egg Whites</td>\n",
       "      <td>86</td>\n",
       "      <td>16</td>\n",
       "      <td>11.3</td>\n",
       "      <td>both</td>\n",
       "      <td>Mid-range product</td>\n",
       "      <td>NaN</td>\n",
       "      <td>Regularly busy</td>\n",
       "      <td>Average orders</td>\n",
       "      <td>Regularly busy</td>\n",
       "    </tr>\n",
       "    <tr>\n",
       "      <th>3</th>\n",
       "      <td>327</td>\n",
       "      <td>33120</td>\n",
       "      <td>5</td>\n",
       "      <td>1</td>\n",
       "      <td>976751</td>\n",
       "      <td>58707</td>\n",
       "      <td>21</td>\n",
       "      <td>6</td>\n",
       "      <td>9</td>\n",
       "      <td>8.0</td>\n",
       "      <td>...</td>\n",
       "      <td>Organic Egg Whites</td>\n",
       "      <td>86</td>\n",
       "      <td>16</td>\n",
       "      <td>11.3</td>\n",
       "      <td>both</td>\n",
       "      <td>Mid-range product</td>\n",
       "      <td>NaN</td>\n",
       "      <td>Regularly busy</td>\n",
       "      <td>Most orders</td>\n",
       "      <td>Regularly busy</td>\n",
       "    </tr>\n",
       "    <tr>\n",
       "      <th>4</th>\n",
       "      <td>390</td>\n",
       "      <td>33120</td>\n",
       "      <td>28</td>\n",
       "      <td>1</td>\n",
       "      <td>2764474</td>\n",
       "      <td>166654</td>\n",
       "      <td>48</td>\n",
       "      <td>0</td>\n",
       "      <td>12</td>\n",
       "      <td>9.0</td>\n",
       "      <td>...</td>\n",
       "      <td>Organic Egg Whites</td>\n",
       "      <td>86</td>\n",
       "      <td>16</td>\n",
       "      <td>11.3</td>\n",
       "      <td>both</td>\n",
       "      <td>Mid-range product</td>\n",
       "      <td>NaN</td>\n",
       "      <td>Busiest days</td>\n",
       "      <td>Most orders</td>\n",
       "      <td>Busiest days</td>\n",
       "    </tr>\n",
       "  </tbody>\n",
       "</table>\n",
       "<p>5 rows × 22 columns</p>\n",
       "</div>"
      ],
      "text/plain": [
       "   order_id  product_id  add_to_cart_order  reordered  Unnamed: 0_x  user_id  \\\n",
       "0         2       33120                  1          1       3355525   202279   \n",
       "1        26       33120                  5          0       2549350   153404   \n",
       "2       120       33120                 13          0        395303    23750   \n",
       "3       327       33120                  5          1        976751    58707   \n",
       "4       390       33120                 28          1       2764474   166654   \n",
       "\n",
       "   order_number  order_day_of_week  order_time  days_since_prior_order  ...  \\\n",
       "0             3                  5           9                     8.0  ...   \n",
       "1             2                  0          16                     7.0  ...   \n",
       "2            11                  6           8                    10.0  ...   \n",
       "3            21                  6           9                     8.0  ...   \n",
       "4            48                  0          12                     9.0  ...   \n",
       "\n",
       "         product_name  aisle_id department_id  prices  exists  \\\n",
       "0  Organic Egg Whites        86            16    11.3    both   \n",
       "1  Organic Egg Whites        86            16    11.3    both   \n",
       "2  Organic Egg Whites        86            16    11.3    both   \n",
       "3  Organic Egg Whites        86            16    11.3    both   \n",
       "4  Organic Egg Whites        86            16    11.3    both   \n",
       "\n",
       "     price_range_loc price_ranged_loc    Busiest days Busiest_period_of_day  \\\n",
       "0  Mid-range product              NaN  Regularly busy           Most orders   \n",
       "1  Mid-range product              NaN    Busiest days           Most orders   \n",
       "2  Mid-range product              NaN  Regularly busy        Average orders   \n",
       "3  Mid-range product              NaN  Regularly busy           Most orders   \n",
       "4  Mid-range product              NaN    Busiest days           Most orders   \n",
       "\n",
       "      Busiest day  \n",
       "0  Regularly busy  \n",
       "1    Busiest days  \n",
       "2  Regularly busy  \n",
       "3  Regularly busy  \n",
       "4    Busiest days  \n",
       "\n",
       "[5 rows x 22 columns]"
      ]
     },
     "execution_count": 8,
     "metadata": {},
     "output_type": "execute_result"
    }
   ],
   "source": [
    "ords_prods_grouped.head()"
   ]
  },
  {
   "cell_type": "markdown",
   "id": "3c744704",
   "metadata": {},
   "source": [
    "## Creating Bar chart and exporting it outside of Jupyter"
   ]
  },
  {
   "cell_type": "code",
   "execution_count": 10,
   "id": "5653334b",
   "metadata": {},
   "outputs": [
    {
     "data": {
      "text/plain": [
       "<Axes: >"
      ]
     },
     "execution_count": 10,
     "metadata": {},
     "output_type": "execute_result"
    },
    {
     "data": {
      "image/png": "[encoded data removed]",
      "text/plain": [
       "<Figure size 640x480 with 1 Axes>"
      ]
     },
     "metadata": {},
     "output_type": "display_data"
    }
   ],
   "source": [
    "# Creating Bar chart for the column orders_day_of _week of ords_prods_grouped df (creates bar from largest to smallest values)\n",
    "ords_prods_grouped['order_day_of_week'].value_counts().plot.bar()"
   ]
  },
  {
   "cell_type": "code",
   "execution_count": 11,
   "id": "673b60c1",
   "metadata": {},
   "outputs": [
    {
     "data": {
      "image/png": "[encoded data removed]",
      "text/plain": [
       "<Figure size 640x480 with 1 Axes>"
      ]
     },
     "metadata": {},
     "output_type": "display_data"
    }
   ],
   "source": [
    "# Changing the bar chart to show values in order by their index\n",
    "bar = ords_prods_grouped['order_day_of_week'].value_counts().sort_index().plot.bar()"
   ]
  },
  {
   "cell_type": "code",
   "execution_count": 14,
   "id": "26a294ca",
   "metadata": {},
   "outputs": [
    {
     "data": {
      "image/png": "[encoded data removed]",
      "text/plain": [
       "<Figure size 640x480 with 1 Axes>"
      ]
     },
     "metadata": {},
     "output_type": "display_data"
    }
   ],
   "source": [
    "# Adding colors to bars \n",
    "bar = ords_prods_grouped['order_day_of_week'].value_counts().plot.bar(color =['purple', 'red', 'pink', 'orange', 'yellow', 'green', 'blue'])"
   ]
  },
  {
   "cell_type": "code",
   "execution_count": 16,
   "id": "17c06b6a",
   "metadata": {},
   "outputs": [],
   "source": [
    "# Export it outside of Jupyter in the form of an image file \n",
    "bar.figure.savefig(os.path.join(path, '04 Analysis','Visualizations', 'bar_orders_dow.png'))"
   ]
  },
  {
   "cell_type": "markdown",
   "id": "5764eab8",
   "metadata": {},
   "source": [
    "## Creating histograms and Scatterplots"
   ]
  },
  {
   "cell_type": "code",
   "execution_count": 17,
   "id": "513b50a0",
   "metadata": {},
   "outputs": [
    {
     "data": {
      "text/plain": [
       "<Axes: ylabel='Frequency'>"
      ]
     },
     "execution_count": 17,
     "metadata": {},
     "output_type": "execute_result"
    },
    {
     "data": {
      "image/png": "[encoded data removed]",
      "text/plain": [
       "<Figure size 640x480 with 1 Axes>"
      ]
     },
     "metadata": {},
     "output_type": "display_data"
    }
   ],
   "source": [
    "# Create histogram for prices column\n",
    "ords_prods_grouped['prices'].plot.hist(bins = 25)"
   ]
  },
  {
   "cell_type": "code",
   "execution_count": 18,
   "id": "b551c11d",
   "metadata": {},
   "outputs": [
    {
     "data": {
      "text/plain": [
       "count    3.243421e+07\n",
       "mean     1.198114e+01\n",
       "std      4.954311e+02\n",
       "min      1.000000e+00\n",
       "25%      4.200000e+00\n",
       "50%      7.400000e+00\n",
       "75%      1.130000e+01\n",
       "max      9.999900e+04\n",
       "Name: prices, dtype: float64"
      ]
     },
     "execution_count": 18,
     "metadata": {},
     "output_type": "execute_result"
    }
   ],
   "source": [
    "# This should have shown 25 bars instead of one, gotta run describe for prices column to see what is off\n",
    "ords_prods_grouped['prices'].describe()"
   ]
  },
  {
   "cell_type": "code",
   "execution_count": 20,
   "id": "21a9c512",
   "metadata": {},
   "outputs": [
    {
     "data": {
      "text/plain": [
       "11.981143922966321"
      ]
     },
     "execution_count": 20,
     "metadata": {},
     "output_type": "execute_result"
    }
   ],
   "source": [
    "# Gotta run mean, median and max to see closer\n",
    "ords_prods_grouped['prices'].mean()"
   ]
  },
  {
   "cell_type": "code",
   "execution_count": 21,
   "id": "0135316c",
   "metadata": {},
   "outputs": [
    {
     "data": {
      "text/plain": [
       "7.4"
      ]
     },
     "execution_count": 21,
     "metadata": {},
     "output_type": "execute_result"
    }
   ],
   "source": [
    "ords_prods_grouped['prices'].median()"
   ]
  },
  {
   "cell_type": "code",
   "execution_count": 22,
   "id": "e3dcbe29",
   "metadata": {},
   "outputs": [
    {
     "data": {
      "text/plain": [
       "99999.0"
      ]
     },
     "execution_count": 22,
     "metadata": {},
     "output_type": "execute_result"
    }
   ],
   "source": [
    "ords_prods_grouped['prices'].max()"
   ]
  },
  {
   "cell_type": "code",
   "execution_count": 25,
   "id": "fea2766b",
   "metadata": {},
   "outputs": [
    {
     "data": {
      "text/plain": [
       "<Axes: xlabel='prices', ylabel='prices'>"
      ]
     },
     "execution_count": 25,
     "metadata": {},
     "output_type": "execute_result"
    },
    {
     "data": {
      "image/png": "[encoded data removed]",
      "text/plain": [
       "<Figure size 640x480 with 1 Axes>"
      ]
     },
     "metadata": {},
     "output_type": "display_data"
    }
   ],
   "source": [
    "# Use scatterplot to see in vis the outliers\n",
    "sns.scatterplot(x = 'prices', y = 'prices',data = ords_prods_grouped)"
   ]
  },
  {
   "cell_type": "code",
   "execution_count": 26,
   "id": "da5830f0",
   "metadata": {},
   "outputs": [
    {
     "data": {
      "text/html": [
       "<div>\n",
       "<style scoped>\n",
       "    .dataframe tbody tr th:only-of-type {\n",
       "        vertical-align: middle;\n",
       "    }\n",
       "\n",
       "    .dataframe tbody tr th {\n",
       "        vertical-align: top;\n",
       "    }\n",
       "\n",
       "    .dataframe thead th {\n",
       "        text-align: right;\n",
       "    }\n",
       "</style>\n",
       "<table border=\"1\" class=\"dataframe\">\n",
       "  <thead>\n",
       "    <tr style=\"text-align: right;\">\n",
       "      <th></th>\n",
       "      <th>order_id</th>\n",
       "      <th>product_id</th>\n",
       "      <th>add_to_cart_order</th>\n",
       "      <th>reordered</th>\n",
       "      <th>Unnamed: 0_x</th>\n",
       "      <th>user_id</th>\n",
       "      <th>order_number</th>\n",
       "      <th>order_day_of_week</th>\n",
       "      <th>order_time</th>\n",
       "      <th>days_since_prior_order</th>\n",
       "      <th>...</th>\n",
       "      <th>product_name</th>\n",
       "      <th>aisle_id</th>\n",
       "      <th>department_id</th>\n",
       "      <th>prices</th>\n",
       "      <th>exists</th>\n",
       "      <th>price_range_loc</th>\n",
       "      <th>price_ranged_loc</th>\n",
       "      <th>Busiest days</th>\n",
       "      <th>Busiest_period_of_day</th>\n",
       "      <th>Busiest day</th>\n",
       "    </tr>\n",
       "  </thead>\n",
       "  <tbody>\n",
       "    <tr>\n",
       "      <th>5993732</th>\n",
       "      <td>43</td>\n",
       "      <td>21553</td>\n",
       "      <td>6</td>\n",
       "      <td>1</td>\n",
       "      <td>657866</td>\n",
       "      <td>39630</td>\n",
       "      <td>14</td>\n",
       "      <td>5</td>\n",
       "      <td>17</td>\n",
       "      <td>4.0</td>\n",
       "      <td>...</td>\n",
       "      <td>Lowfat 2% Milkfat Cottage Cheese</td>\n",
       "      <td>108</td>\n",
       "      <td>16</td>\n",
       "      <td>14900.0</td>\n",
       "      <td>both</td>\n",
       "      <td>High-range product</td>\n",
       "      <td>NaN</td>\n",
       "      <td>Regularly busy</td>\n",
       "      <td>Average orders</td>\n",
       "      <td>Regularly busy</td>\n",
       "    </tr>\n",
       "    <tr>\n",
       "      <th>5993733</th>\n",
       "      <td>950</td>\n",
       "      <td>21553</td>\n",
       "      <td>20</td>\n",
       "      <td>0</td>\n",
       "      <td>3115409</td>\n",
       "      <td>187854</td>\n",
       "      <td>16</td>\n",
       "      <td>1</td>\n",
       "      <td>11</td>\n",
       "      <td>16.0</td>\n",
       "      <td>...</td>\n",
       "      <td>Lowfat 2% Milkfat Cottage Cheese</td>\n",
       "      <td>108</td>\n",
       "      <td>16</td>\n",
       "      <td>14900.0</td>\n",
       "      <td>both</td>\n",
       "      <td>High-range product</td>\n",
       "      <td>NaN</td>\n",
       "      <td>Busiest days</td>\n",
       "      <td>Most orders</td>\n",
       "      <td>Regularly busy</td>\n",
       "    </tr>\n",
       "    <tr>\n",
       "      <th>5993734</th>\n",
       "      <td>1115</td>\n",
       "      <td>21553</td>\n",
       "      <td>14</td>\n",
       "      <td>1</td>\n",
       "      <td>2786355</td>\n",
       "      <td>168014</td>\n",
       "      <td>15</td>\n",
       "      <td>6</td>\n",
       "      <td>14</td>\n",
       "      <td>30.0</td>\n",
       "      <td>...</td>\n",
       "      <td>Lowfat 2% Milkfat Cottage Cheese</td>\n",
       "      <td>108</td>\n",
       "      <td>16</td>\n",
       "      <td>14900.0</td>\n",
       "      <td>both</td>\n",
       "      <td>High-range product</td>\n",
       "      <td>NaN</td>\n",
       "      <td>Regularly busy</td>\n",
       "      <td>Most orders</td>\n",
       "      <td>Regularly busy</td>\n",
       "    </tr>\n",
       "    <tr>\n",
       "      <th>5993735</th>\n",
       "      <td>1155</td>\n",
       "      <td>21553</td>\n",
       "      <td>18</td>\n",
       "      <td>1</td>\n",
       "      <td>1728457</td>\n",
       "      <td>103747</td>\n",
       "      <td>22</td>\n",
       "      <td>1</td>\n",
       "      <td>13</td>\n",
       "      <td>12.0</td>\n",
       "      <td>...</td>\n",
       "      <td>Lowfat 2% Milkfat Cottage Cheese</td>\n",
       "      <td>108</td>\n",
       "      <td>16</td>\n",
       "      <td>14900.0</td>\n",
       "      <td>both</td>\n",
       "      <td>High-range product</td>\n",
       "      <td>NaN</td>\n",
       "      <td>Busiest days</td>\n",
       "      <td>Most orders</td>\n",
       "      <td>Regularly busy</td>\n",
       "    </tr>\n",
       "    <tr>\n",
       "      <th>5993736</th>\n",
       "      <td>1220</td>\n",
       "      <td>21553</td>\n",
       "      <td>19</td>\n",
       "      <td>0</td>\n",
       "      <td>390850</td>\n",
       "      <td>23475</td>\n",
       "      <td>3</td>\n",
       "      <td>0</td>\n",
       "      <td>17</td>\n",
       "      <td>26.0</td>\n",
       "      <td>...</td>\n",
       "      <td>Lowfat 2% Milkfat Cottage Cheese</td>\n",
       "      <td>108</td>\n",
       "      <td>16</td>\n",
       "      <td>14900.0</td>\n",
       "      <td>both</td>\n",
       "      <td>High-range product</td>\n",
       "      <td>NaN</td>\n",
       "      <td>Busiest days</td>\n",
       "      <td>Average orders</td>\n",
       "      <td>Busiest days</td>\n",
       "    </tr>\n",
       "    <tr>\n",
       "      <th>...</th>\n",
       "      <td>...</td>\n",
       "      <td>...</td>\n",
       "      <td>...</td>\n",
       "      <td>...</td>\n",
       "      <td>...</td>\n",
       "      <td>...</td>\n",
       "      <td>...</td>\n",
       "      <td>...</td>\n",
       "      <td>...</td>\n",
       "      <td>...</td>\n",
       "      <td>...</td>\n",
       "      <td>...</td>\n",
       "      <td>...</td>\n",
       "      <td>...</td>\n",
       "      <td>...</td>\n",
       "      <td>...</td>\n",
       "      <td>...</td>\n",
       "      <td>...</td>\n",
       "      <td>...</td>\n",
       "      <td>...</td>\n",
       "      <td>...</td>\n",
       "    </tr>\n",
       "    <tr>\n",
       "      <th>28384240</th>\n",
       "      <td>3407607</td>\n",
       "      <td>33664</td>\n",
       "      <td>9</td>\n",
       "      <td>1</td>\n",
       "      <td>245911</td>\n",
       "      <td>14872</td>\n",
       "      <td>17</td>\n",
       "      <td>4</td>\n",
       "      <td>21</td>\n",
       "      <td>13.0</td>\n",
       "      <td>...</td>\n",
       "      <td>2 % Reduced Fat  Milk</td>\n",
       "      <td>84</td>\n",
       "      <td>16</td>\n",
       "      <td>99999.0</td>\n",
       "      <td>both</td>\n",
       "      <td>High-range product</td>\n",
       "      <td>NaN</td>\n",
       "      <td>Slowest days</td>\n",
       "      <td>Average orders</td>\n",
       "      <td>Regularly busy</td>\n",
       "    </tr>\n",
       "    <tr>\n",
       "      <th>28384241</th>\n",
       "      <td>3409400</td>\n",
       "      <td>33664</td>\n",
       "      <td>1</td>\n",
       "      <td>1</td>\n",
       "      <td>1178612</td>\n",
       "      <td>70851</td>\n",
       "      <td>10</td>\n",
       "      <td>5</td>\n",
       "      <td>9</td>\n",
       "      <td>5.0</td>\n",
       "      <td>...</td>\n",
       "      <td>2 % Reduced Fat  Milk</td>\n",
       "      <td>84</td>\n",
       "      <td>16</td>\n",
       "      <td>99999.0</td>\n",
       "      <td>both</td>\n",
       "      <td>High-range product</td>\n",
       "      <td>NaN</td>\n",
       "      <td>Regularly busy</td>\n",
       "      <td>Most orders</td>\n",
       "      <td>Regularly busy</td>\n",
       "    </tr>\n",
       "    <tr>\n",
       "      <th>28384242</th>\n",
       "      <td>3414106</td>\n",
       "      <td>33664</td>\n",
       "      <td>5</td>\n",
       "      <td>1</td>\n",
       "      <td>1857363</td>\n",
       "      <td>111487</td>\n",
       "      <td>25</td>\n",
       "      <td>6</td>\n",
       "      <td>7</td>\n",
       "      <td>9.0</td>\n",
       "      <td>...</td>\n",
       "      <td>2 % Reduced Fat  Milk</td>\n",
       "      <td>84</td>\n",
       "      <td>16</td>\n",
       "      <td>99999.0</td>\n",
       "      <td>both</td>\n",
       "      <td>High-range product</td>\n",
       "      <td>NaN</td>\n",
       "      <td>Regularly busy</td>\n",
       "      <td>Average orders</td>\n",
       "      <td>Regularly busy</td>\n",
       "    </tr>\n",
       "    <tr>\n",
       "      <th>28384243</th>\n",
       "      <td>3417702</td>\n",
       "      <td>33664</td>\n",
       "      <td>13</td>\n",
       "      <td>0</td>\n",
       "      <td>1178278</td>\n",
       "      <td>70821</td>\n",
       "      <td>5</td>\n",
       "      <td>2</td>\n",
       "      <td>14</td>\n",
       "      <td>18.0</td>\n",
       "      <td>...</td>\n",
       "      <td>2 % Reduced Fat  Milk</td>\n",
       "      <td>84</td>\n",
       "      <td>16</td>\n",
       "      <td>99999.0</td>\n",
       "      <td>both</td>\n",
       "      <td>High-range product</td>\n",
       "      <td>NaN</td>\n",
       "      <td>Regularly busy</td>\n",
       "      <td>Most orders</td>\n",
       "      <td>Regularly busy</td>\n",
       "    </tr>\n",
       "    <tr>\n",
       "      <th>28384244</th>\n",
       "      <td>3421047</td>\n",
       "      <td>33664</td>\n",
       "      <td>6</td>\n",
       "      <td>0</td>\n",
       "      <td>1641615</td>\n",
       "      <td>98554</td>\n",
       "      <td>4</td>\n",
       "      <td>1</td>\n",
       "      <td>11</td>\n",
       "      <td>4.0</td>\n",
       "      <td>...</td>\n",
       "      <td>2 % Reduced Fat  Milk</td>\n",
       "      <td>84</td>\n",
       "      <td>16</td>\n",
       "      <td>99999.0</td>\n",
       "      <td>both</td>\n",
       "      <td>High-range product</td>\n",
       "      <td>NaN</td>\n",
       "      <td>Busiest days</td>\n",
       "      <td>Most orders</td>\n",
       "      <td>Regularly busy</td>\n",
       "    </tr>\n",
       "  </tbody>\n",
       "</table>\n",
       "<p>5127 rows × 22 columns</p>\n",
       "</div>"
      ],
      "text/plain": [
       "          order_id  product_id  add_to_cart_order  reordered  Unnamed: 0_x  \\\n",
       "5993732         43       21553                  6          1        657866   \n",
       "5993733        950       21553                 20          0       3115409   \n",
       "5993734       1115       21553                 14          1       2786355   \n",
       "5993735       1155       21553                 18          1       1728457   \n",
       "5993736       1220       21553                 19          0        390850   \n",
       "...            ...         ...                ...        ...           ...   \n",
       "28384240   3407607       33664                  9          1        245911   \n",
       "28384241   3409400       33664                  1          1       1178612   \n",
       "28384242   3414106       33664                  5          1       1857363   \n",
       "28384243   3417702       33664                 13          0       1178278   \n",
       "28384244   3421047       33664                  6          0       1641615   \n",
       "\n",
       "          user_id  order_number  order_day_of_week  order_time  \\\n",
       "5993732     39630            14                  5          17   \n",
       "5993733    187854            16                  1          11   \n",
       "5993734    168014            15                  6          14   \n",
       "5993735    103747            22                  1          13   \n",
       "5993736     23475             3                  0          17   \n",
       "...           ...           ...                ...         ...   \n",
       "28384240    14872            17                  4          21   \n",
       "28384241    70851            10                  5           9   \n",
       "28384242   111487            25                  6           7   \n",
       "28384243    70821             5                  2          14   \n",
       "28384244    98554             4                  1          11   \n",
       "\n",
       "          days_since_prior_order  ...                      product_name  \\\n",
       "5993732                      4.0  ...  Lowfat 2% Milkfat Cottage Cheese   \n",
       "5993733                     16.0  ...  Lowfat 2% Milkfat Cottage Cheese   \n",
       "5993734                     30.0  ...  Lowfat 2% Milkfat Cottage Cheese   \n",
       "5993735                     12.0  ...  Lowfat 2% Milkfat Cottage Cheese   \n",
       "5993736                     26.0  ...  Lowfat 2% Milkfat Cottage Cheese   \n",
       "...                          ...  ...                               ...   \n",
       "28384240                    13.0  ...             2 % Reduced Fat  Milk   \n",
       "28384241                     5.0  ...             2 % Reduced Fat  Milk   \n",
       "28384242                     9.0  ...             2 % Reduced Fat  Milk   \n",
       "28384243                    18.0  ...             2 % Reduced Fat  Milk   \n",
       "28384244                     4.0  ...             2 % Reduced Fat  Milk   \n",
       "\n",
       "          aisle_id department_id   prices  exists     price_range_loc  \\\n",
       "5993732        108            16  14900.0    both  High-range product   \n",
       "5993733        108            16  14900.0    both  High-range product   \n",
       "5993734        108            16  14900.0    both  High-range product   \n",
       "5993735        108            16  14900.0    both  High-range product   \n",
       "5993736        108            16  14900.0    both  High-range product   \n",
       "...            ...           ...      ...     ...                 ...   \n",
       "28384240        84            16  99999.0    both  High-range product   \n",
       "28384241        84            16  99999.0    both  High-range product   \n",
       "28384242        84            16  99999.0    both  High-range product   \n",
       "28384243        84            16  99999.0    both  High-range product   \n",
       "28384244        84            16  99999.0    both  High-range product   \n",
       "\n",
       "         price_ranged_loc    Busiest days Busiest_period_of_day  \\\n",
       "5993732               NaN  Regularly busy        Average orders   \n",
       "5993733               NaN    Busiest days           Most orders   \n",
       "5993734               NaN  Regularly busy           Most orders   \n",
       "5993735               NaN    Busiest days           Most orders   \n",
       "5993736               NaN    Busiest days        Average orders   \n",
       "...                   ...             ...                   ...   \n",
       "28384240              NaN    Slowest days        Average orders   \n",
       "28384241              NaN  Regularly busy           Most orders   \n",
       "28384242              NaN  Regularly busy        Average orders   \n",
       "28384243              NaN  Regularly busy           Most orders   \n",
       "28384244              NaN    Busiest days           Most orders   \n",
       "\n",
       "             Busiest day  \n",
       "5993732   Regularly busy  \n",
       "5993733   Regularly busy  \n",
       "5993734   Regularly busy  \n",
       "5993735   Regularly busy  \n",
       "5993736     Busiest days  \n",
       "...                  ...  \n",
       "28384240  Regularly busy  \n",
       "28384241  Regularly busy  \n",
       "28384242  Regularly busy  \n",
       "28384243  Regularly busy  \n",
       "28384244  Regularly busy  \n",
       "\n",
       "[5127 rows x 22 columns]"
      ]
     },
     "execution_count": 26,
     "metadata": {},
     "output_type": "execute_result"
    }
   ],
   "source": [
    "# Determine whether there are any values above a certain threshold in data,anything above the “normal” price of a supermarket item.\n",
    "ords_prods_grouped.loc[ords_prods_grouped['prices'] > 100]"
   ]
  },
  {
   "cell_type": "code",
   "execution_count": 27,
   "id": "64409898",
   "metadata": {},
   "outputs": [],
   "source": [
    "# Mark 'prices over $100' as missing since they don’t make sense in terms of the other values in the column. \n",
    "# Turn them into NaNs: \n",
    "ords_prods_grouped.loc[ords_prods_grouped['prices'] >100, 'prices'] = np.nan"
   ]
  },
  {
   "cell_type": "code",
   "execution_count": 28,
   "id": "b0e58e25",
   "metadata": {},
   "outputs": [
    {
     "data": {
      "text/plain": [
       "25.0"
      ]
     },
     "execution_count": 28,
     "metadata": {},
     "output_type": "execute_result"
    }
   ],
   "source": [
    "# Check max of prices to see if np.nan worked\n",
    "ords_prods_grouped['prices'].max()"
   ]
  },
  {
   "cell_type": "code",
   "execution_count": 29,
   "id": "1a5b30fc",
   "metadata": {},
   "outputs": [
    {
     "data": {
      "text/plain": [
       "<Axes: ylabel='Frequency'>"
      ]
     },
     "execution_count": 29,
     "metadata": {},
     "output_type": "execute_result"
    },
    {
     "data": {
      "image/png": "[encoded data removed]",
      "text/plain": [
       "<Figure size 640x480 with 1 Axes>"
      ]
     },
     "metadata": {},
     "output_type": "display_data"
    }
   ],
   "source": [
    "# Try creating scatterplot again \n",
    "ords_prods_grouped['prices'].plot.hist(bins = 25)"
   ]
  },
  {
   "cell_type": "code",
   "execution_count": 31,
   "id": "4db90ddb",
   "metadata": {},
   "outputs": [
    {
     "data": {
      "text/plain": [
       "<Axes: ylabel='Frequency'>"
      ]
     },
     "execution_count": 31,
     "metadata": {},
     "output_type": "execute_result"
    },
    {
     "data": {
      "image/png": "[encoded data removed]",
      "text/plain": [
       "<Figure size 640x480 with 1 Axes>"
      ]
     },
     "metadata": {},
     "output_type": "display_data"
    }
   ],
   "source": [
    "# Change frequency of bins to 70 (for thinner bars)\n",
    "ords_prods_grouped['prices'].plot.hist(bins = 70)"
   ]
  },
  {
   "cell_type": "markdown",
   "id": "2e2ae32e",
   "metadata": {},
   "source": [
    "### Creating Line charts"
   ]
  },
  {
   "cell_type": "markdown",
   "id": "32ac106a",
   "metadata": {},
   "source": [
    "### Sampling Data\n",
    "To avoid Mac crash sampling will be used. Subset wouldn't be representative of the entire population vs sampling. \n"
   ]
  },
  {
   "cell_type": "code",
   "execution_count": 33,
   "id": "435a2b15",
   "metadata": {},
   "outputs": [],
   "source": [
    "# In a 70/30 split, 30% sample would statistically resemble the 70% sample but contain less rows.\n",
    "# Create the sample using np\n",
    "np.random.seed(4)\n",
    "# Create a list holding True/False values to the test np.random.rand <=0.7\n",
    "dev = np.random.rand(len(ords_prods_grouped)) <= 0.7"
   ]
  },
  {
   "cell_type": "code",
   "execution_count": 34,
   "id": "673b52de",
   "metadata": {},
   "outputs": [],
   "source": [
    "# Store 70% of sample in df big\n",
    "big = ords_prods_grouped[dev]"
   ]
  },
  {
   "cell_type": "code",
   "execution_count": 35,
   "id": "57268d17",
   "metadata": {},
   "outputs": [],
   "source": [
    "# Store 30% of sample in df small\n",
    "small = ords_prods_grouped[~dev]"
   ]
  },
  {
   "cell_type": "code",
   "execution_count": 38,
   "id": "6a572994",
   "metadata": {},
   "outputs": [],
   "source": [
    "# Create df that contains only columns needed for the chart to speed up the process\n",
    "df_sample = small[['order_day_of_week','prices']]"
   ]
  },
  {
   "cell_type": "code",
   "execution_count": 39,
   "id": "62c996ad",
   "metadata": {},
   "outputs": [
    {
     "data": {
      "image/png": "[encoded data removed]",
      "text/plain": [
       "<Figure size 640x480 with 1 Axes>"
      ]
     },
     "metadata": {},
     "output_type": "display_data"
    }
   ],
   "source": [
    "# Create a line chart to show the development of the “prices” column across the days of the week.\n",
    "line = sns.lineplot(data = df_sample, x = 'order_day_of_week',y = 'prices')"
   ]
  },
  {
   "cell_type": "code",
   "execution_count": null,
   "id": "096bb8cd",
   "metadata": {},
   "outputs": [],
   "source": []
  }
 ],
 "metadata": {
  "kernelspec": {
   "display_name": "Python 3 (ipykernel)",
   "language": "python",
   "name": "python3"
  },
  "language_info": {
   "codemirror_mode": {
    "name": "ipython",
    "version": 3
   },
   "file_extension": ".py",
   "mimetype": "text/x-python",
   "name": "python",
   "nbconvert_exporter": "python",
   "pygments_lexer": "ipython3",
   "version": "3.11.3"
  }
 },
 "nbformat": 4,
 "nbformat_minor": 5
}
